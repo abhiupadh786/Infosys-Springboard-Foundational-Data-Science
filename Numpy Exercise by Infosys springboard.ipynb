{
 "cells": [
  {
   "cell_type": "markdown",
   "id": "8fbb1da0",
   "metadata": {},
   "source": [
    "## Problem Statement:\n",
    "\n",
    "- Lee decides to walk 10000 steps every day to combat the effect that lockdown has had on his body’s agility, mobility, flexibility and strength. Consider the following data from fitness tracker over a period of 10 days\n",
    "\n",
    "|**Day number**|**Steps walked**|\n",
    "|:-:|:-:|\n",
    "|**1**|**6012**|\n",
    "|**2**|**7079**|\n",
    "|**3**|**6886**|\n",
    "|**4**|**7230**|\n",
    "|**5**|**4598**|\n",
    "|**6**|**5564**|\n",
    "|**7**|**6971**|\n",
    "|**8**|**7763**|\n",
    "|**9**|**8032**|\n",
    "|**10**|**9569**|\n",
    "\n",
    " "
   ]
  },
  {
   "cell_type": "code",
   "execution_count": 10,
   "id": "a9f2548c",
   "metadata": {},
   "outputs": [
    {
     "name": "stdout",
     "output_type": "stream",
     "text": [
      "[[   1 6012]\n",
      " [   2 7079]\n",
      " [   3 6886]\n",
      " [   4 7230]\n",
      " [   5 4598]\n",
      " [   6 5564]\n",
      " [   7 6971]\n",
      " [   8 7763]\n",
      " [   9 8032]\n",
      " [  10 9569]]\n"
     ]
    }
   ],
   "source": [
    "## Q1. Represent the above data in a 10x2 array. In each row, the first element should contain day number and second element should contain steps walked.\n",
    "import numpy as np\n",
    "dataset1=np.array([[1,6012],[2,7079],[3,6886],[4,7230],[5,4598],[6,5564],[7,6971],[8,7763],[9,8032],[10,9569]])\n",
    "\n",
    "print(dataset1)"
   ]
  },
  {
   "cell_type": "code",
   "execution_count": 11,
   "id": "2205d8b7",
   "metadata": {},
   "outputs": [
    {
     "name": "stdout",
     "output_type": "stream",
     "text": [
      "[[    1  8012]\n",
      " [    2  9079]\n",
      " [    3  8886]\n",
      " [    4  9230]\n",
      " [    5  6598]\n",
      " [    6  7564]\n",
      " [    7  8971]\n",
      " [    8  9763]\n",
      " [    9 10032]\n",
      " [   10 11569]]\n"
     ]
    }
   ],
   "source": [
    "## Q2. Lee notices that the tracker’s battery dies every day at 7 pm. Lee discovers that on an average, he walks 2000 steps every day after 7 pm. Perform an appropriate operation on your array to add 2000 steps to all the observations.\n",
    "\n",
    "\n",
    "dataset2=dataset1+np.array([0,2000])\n",
    "print(dataset2)"
   ]
  },
  {
   "cell_type": "code",
   "execution_count": 12,
   "id": "884e85ef",
   "metadata": {},
   "outputs": [
    {
     "name": "stdout",
     "output_type": "stream",
     "text": [
      "[[    2  9079]\n",
      " [    4  9230]\n",
      " [    8  9763]\n",
      " [    9 10032]\n",
      " [   10 11569]]\n"
     ]
    }
   ],
   "source": [
    "## Q3. Write a program that returns the steps walked if the steps walked are more than 9000.\n",
    "dataset3=dataset2[dataset2[:,1]>9000]\n",
    "print(dataset3)"
   ]
  },
  {
   "cell_type": "code",
   "execution_count": 13,
   "id": "5f55c478",
   "metadata": {},
   "outputs": [
    {
     "name": "stdout",
     "output_type": "stream",
     "text": [
      "[[    5  6598]\n",
      " [    6  7564]\n",
      " [    1  8012]\n",
      " [    3  8886]\n",
      " [    7  8971]\n",
      " [    2  9079]\n",
      " [    4  9230]\n",
      " [    8  9763]\n",
      " [    9 10032]\n",
      " [   10 11569]]\n"
     ]
    }
   ],
   "source": [
    "## Q4. Print an array containing steps walked in sorted order.\n",
    "\n",
    "dataset4=dataset2[dataset2[:,1].argsort()]\n",
    "print(dataset4)"
   ]
  },
  {
   "cell_type": "code",
   "execution_count": null,
   "id": "4bba9091",
   "metadata": {},
   "outputs": [],
   "source": []
  }
 ],
 "metadata": {
  "kernelspec": {
   "display_name": "Python 3",
   "language": "python",
   "name": "python3"
  },
  "language_info": {
   "codemirror_mode": {
    "name": "ipython",
    "version": 3
   },
   "file_extension": ".py",
   "mimetype": "text/x-python",
   "name": "python",
   "nbconvert_exporter": "python",
   "pygments_lexer": "ipython3",
   "version": "3.8.8"
  }
 },
 "nbformat": 4,
 "nbformat_minor": 5
}
